{
 "cells": [
  {
   "cell_type": "code",
   "execution_count": null,
   "metadata": {},
   "outputs": [],
   "source": [
    "# Update and import packages\n",
    "!pip install -Uqr requirements.txt\n",
    "!/bin/bash ./local_mode_setup.sh\n",
    "\n",
    "# Basic packages\n",
    "import json\n",
    "import pandas as pd\n",
    "pd.set_option(\"display.max_colwidth\", None)\n",
    "\n",
    "# AWS packages\n",
    "import sagemaker\n",
    "from sagemaker.sklearn import SKLearn\n",
    "from sagemaker.predictor import Predictor\n",
    "import boto3"
   ]
  },
  {
   "cell_type": "code",
   "execution_count": null,
   "metadata": {},
   "outputs": [],
   "source": [
    "# Train SM estimator\n",
    "train_data = 's3://amplifyobserverinsights-aoinsightslandingbucket29-5vcr471d4nm5/data/issues/'\n",
    "sklearn_estimator = SKLearn(\n",
    "    'train.py',\n",
    "    role=sagemaker.get_execution_role(),\n",
    "    instance_type='local',\n",
    "    framework_version='0.23-1',\n",
    "    hyperparameters = {'n-best': 10},\n",
    "    dependencies=['.']\n",
    ")\n",
    "sklearn_estimator.fit({'train': train_data})"
   ]
  },
  {
   "cell_type": "code",
   "execution_count": null,
   "metadata": {},
   "outputs": [],
   "source": [
    "# Deploy SM predictor\n",
    "# predictor = sklearn_estimator.deploy(instance_type='ml.m5.4xlarge',\n",
    "#                                      initial_instance_count=1,\n",
    "# #                                      update_endpoint=True,\n",
    "#                                     endpoint_name='issue-similarity-endpoint')\n",
    "predictor = Predictor('issue-similarity-endpoint')\n",
    "model = sklearn_estimator.create_model()\n",
    "session = model.sagemaker_session\n",
    "role = sagemaker.get_execution_role()\n",
    "model_name = model.name\n",
    "container_def = model.prepare_container_def(instance_type='ml.m5.4xlarge')\n",
    "session.create_model(model_name, role, container_def)\n",
    "\n",
    "\n",
    "endpoint_config_name = session.create_endpoint_config(name=model_name,\n",
    "                                                      model_name=model_name,\n",
    "                                                      initial_instance_count=1,\n",
    "                                                      instance_type='ml.m5.4xlarge')\n",
    "\n",
    "# Update desired endpoint with new Endpoint Config\n",
    "client = boto3.client('sagemaker')\n",
    "client.update_endpoint(EndpointName='issue-similarity-endpoint',\n",
    "                       EndpointConfigName=endpoint_config_name)\n",
    "\n",
    "# predictor.update_endpoint(\n",
    "#     instance_type='ml.m5.4xlarge',\n",
    "#     model_name = sklearn_estimator.create_model().name,\n",
    "#     initial_instance_count=1\n",
    "# )"
   ]
  },
  {
   "cell_type": "code",
   "execution_count": null,
   "metadata": {},
   "outputs": [],
   "source": [
    "data = ['DataStore model subscription fails']\n",
    "data = json.dumps({'data': data})\n",
    "response = predictor.predict(data)\n",
    "print(response)"
   ]
  }
 ],
 "metadata": {
  "instance_type": "ml.t3.medium",
  "kernelspec": {
   "display_name": "Python 3 (Data Science)",
   "language": "python",
   "name": "python3__SAGEMAKER_INTERNAL__arn:aws:sagemaker:us-west-2:236514542706:image/datascience-1.0"
  },
  "language_info": {
   "codemirror_mode": {
    "name": "ipython",
    "version": 3
   },
   "file_extension": ".py",
   "mimetype": "text/x-python",
   "name": "python",
   "nbconvert_exporter": "python",
   "pygments_lexer": "ipython3",
   "version": "3.7.10"
  }
 },
 "nbformat": 4,
 "nbformat_minor": 4
}