{
 "cells": [
  {
   "cell_type": "code",
   "execution_count": 114,
   "metadata": {},
   "outputs": [
    {
     "name": "stdout",
     "output_type": "stream",
     "text": [
      "/opt/conda/lib/python3.7/site-packages/secretstorage/dhcrypto.py:16: CryptographyDeprecationWarning: int_from_bytes is deprecated, use int.from_bytes instead\n",
      "  from cryptography.utils import int_from_bytes\n",
      "/opt/conda/lib/python3.7/site-packages/secretstorage/util.py:25: CryptographyDeprecationWarning: int_from_bytes is deprecated, use int.from_bytes instead\n",
      "  from cryptography.utils import int_from_bytes\n",
      "\u001b[31mERROR: pip's dependency resolver does not currently take into account all the packages that are installed. This behaviour is the source of the following dependency conflicts.\n",
      "awscli 1.20.2 requires botocore==1.21.2, but you have botocore 1.21.10 which is incompatible.\n",
      "aiobotocore 1.3.3 requires botocore<1.20.107,>=1.20.106, but you have botocore 1.21.10 which is incompatible.\u001b[0m\n",
      "\u001b[33mWARNING: Running pip as the 'root' user can result in broken permissions and conflicting behaviour with the system package manager. It is recommended to use a virtual environment instead: https://pip.pypa.io/warnings/venv\u001b[0m\n"
     ]
    }
   ],
   "source": [
    "# Update and import packages\n",
    "!pip install -Uqr requirements.txt\n",
    "\n",
    "# Basic packages\n",
    "import importlib\n",
    "from time import time\n",
    "from pathlib import Path\n",
    "from progress.bar import Bar\n",
    "import json\n",
    "import re\n",
    "import io\n",
    "from bs4 import BeautifulSoup\n",
    "\n",
    "# Data science/NLP packages\n",
    "import numpy as np\n",
    "import pandas as pd\n",
    "pd.set_option(\"display.max_colwidth\", None)\n",
    "\n",
    "# AWS packages\n",
    "import awswrangler as wr\n",
    "import sagemaker\n",
    "from sagemaker.sklearn import SKLearn\n",
    "from sagemaker.predictor import Predictor\n",
    "import boto3\n",
    "\n",
    "# Local modules\n",
    "import model\n",
    "import train\n",
    "for m in [model, train]:\n",
    "    importlib.reload(m)\n",
    "\n",
    "from model import VectorSimilarity, get_fitted_model\n",
    "from train import combine_dfs"
   ]
  },
  {
   "cell_type": "code",
   "execution_count": 2,
   "metadata": {
    "collapsed": false,
    "jupyter": {
     "outputs_hidden": false
    },
    "pycharm": {
     "name": "#%%\n"
    }
   },
   "outputs": [
    {
     "name": "stdout",
     "output_type": "stream",
     "text": [
      "[['a' 'b' 'c']]\n",
      "[[ 2.  1. -1.]]\n",
      "Prediction took 0.000789642333984375 seconds\n"
     ]
    },
    {
     "data": {
      "text/plain": [
       "(array([['a', 'b', 'c']], dtype='<U1'), array([[ 2.,  1., -1.]]))"
      ]
     },
     "execution_count": 2,
     "metadata": {},
     "output_type": "execute_result"
    }
   ],
   "source": [
    "# Sanity checks on VectorSimilarity\n",
    "X = np.array(\n",
    "    [[0, 1],\n",
    "     [1, 0],\n",
    "     [-1, 0]])\n",
    "y = np.array(['a', 'b', 'c'])\n",
    "\n",
    "estimator = VectorSimilarity()\n",
    "estimator = estimator.fit(X, y)\n",
    "estimator.predict(np.array([1, 2]).reshape(1, -1))"
   ]
  },
  {
   "cell_type": "code",
   "execution_count": 3,
   "metadata": {},
   "outputs": [
    {
     "name": "stdout",
     "output_type": "stream",
     "text": [
      "Training model...\n",
      "Took 1.484374761581421 seconds\n",
      "[['a' 'c' 'b' 'd']\n",
      " ['b' 'c' 'a' 'd']\n",
      " ['c' 'b' 'a' 'd']\n",
      " ['d' 'c' 'b' 'a']]\n",
      "[[1.         0.27710268 0.27710268 0.        ]\n",
      " [1.         0.27710268 0.27710268 0.        ]\n",
      " [1.         0.27710268 0.27710268 0.        ]\n",
      " [1.         0.         0.         0.        ]]\n",
      "Prediction took 0.0005955696105957031 seconds\n"
     ]
    },
    {
     "name": "stderr",
     "output_type": "stream",
     "text": [
      "/opt/conda/lib/python3.7/site-packages/sklearn/feature_extraction/text.py:391: UserWarning: Your stop_words may be inconsistent with your preprocessing. Tokenizing the stop words generated tokens ['make'] not in stop_words.\n",
      "  'stop_words.' % sorted(inconsistent))\n"
     ]
    }
   ],
   "source": [
    "# Basic pipeline setup\n",
    "basic_corpus = [\n",
    "    'Bees like to make honey',\n",
    "    'Bears like to eat honey',\n",
    "    'Bees don\\'t like bears',\n",
    "    'Humans are walking around the park'\n",
    "]\n",
    "basic_labels = ['a', 'b', 'c', 'd']\n",
    "\n",
    "pipe = get_fitted_model(basic_corpus, basic_labels, lemmatize='custom')\n",
    "pred, score = pipe.predict(basic_corpus)"
   ]
  },
  {
   "cell_type": "code",
   "execution_count": 62,
   "metadata": {},
   "outputs": [],
   "source": [
    "# File helper functions\n",
    "def list_data_objs():\n",
    "    secret_name = \"SageMakerS3Access\"\n",
    "    region_name = \"us-west-2\"\n",
    "    bucket_name = 'amplifyobserverinsights-aoinsightslandingbucket29-5vcr471d4nm5'\n",
    "    bucket_subfolder = 'data/issues/'\n",
    "    \n",
    "#     secrets = boto3.client(\n",
    "#         service_name='secretsmanager',\n",
    "#         region_name=region_name\n",
    "#     )\n",
    "\n",
    "#     secrets_response = secrets.get_secret_value(SecretId=secret_name)\n",
    "#     secrets_dict = json.loads(secrets_response['SecretString'])\n",
    "#     (access_key, secret_key), = secrets_dict.items()\n",
    "\n",
    "    s3 = boto3.client('s3')\n",
    "    data_objects = s3.list_objects_v2(Bucket=bucket_name, Prefix=bucket_subfolder)['Contents']\n",
    "    data_obj_names = [key['Key'] for key in data_objects]\n",
    "#     data_obj_names = [f\"s3://{bucket_name}/{key['Key']}\" for key in data_objects]\n",
    "    \n",
    "    return data_obj_names\n",
    "\n",
    "\n",
    "def download_data(filename, data_obj_names):\n",
    "    dfs = []\n",
    "    s3 = boto3.client(\n",
    "        's3',\n",
    "    )\n",
    "    \n",
    "    with Bar(\n",
    "        message='Downloading parquets',\n",
    "        check_tty=False,\n",
    "        hide_cursor=False,\n",
    "        max=len(data_obj_names)\n",
    "    ) as bar:\n",
    "\n",
    "        for obj_name in data_obj_names:\n",
    "#             df = wr.s3.read_csv(obj_name)\n",
    "            obj = s3.get_object(Bucket='amplifyobserverinsights-aoinsightslandingbucket29-5vcr471d4nm5', Key=obj_name)\n",
    "            df = pd.read_parquet(io.BytesIO(obj['Body'].read()))\n",
    "            dfs.append(df)\n",
    "            bar.next()\n",
    "\n",
    "        bar.finish()\n",
    "        \n",
    "    df = combine_dfs(dfs)\n",
    "    df.to_csv(filename)\n",
    "\n",
    "    return df\n",
    "\n",
    "def get_data(filename, force_redownload=False):\n",
    "    start = time()\n",
    "    data = Path(filename)\n",
    "    \n",
    "    if data.is_file() and not force_redownload:\n",
    "        print('Deserializing data from', filename, '...')\n",
    "        df = pd.read_csv(filename)\n",
    "        \n",
    "    else:\n",
    "        data_obj_names = list_data_objs()\n",
    "        df = download_data(filename, data_obj_names[1:]) # TODO: this is because list data objs is returning an empty thing\n",
    "        \n",
    "    print('Took', time() - start, 'seconds')    \n",
    "    return df"
   ]
  },
  {
   "cell_type": "code",
   "execution_count": 6,
   "metadata": {},
   "outputs": [],
   "source": [
    "# Data helper functions\n",
    "def query_df(df, **kwargs):\n",
    "    query = True\n",
    "    for key, value in kwargs.items():\n",
    "        query &= (df[key] == value)\n",
    "        \n",
    "    result = df[query]\n",
    "    return result\n",
    "\n",
    "def inspect_doc(vectorizer, doc, n_best=10):\n",
    "    if type(doc) == str:\n",
    "        doc = [doc]\n",
    "        \n",
    "    if len(doc) > 1:\n",
    "        raise ValueError('Only one document per call is supported')\n",
    "\n",
    "    vocab = np.array(vectorizer.get_feature_names(), ndmin=2)\n",
    "    weights = vectorizer.transform(doc).toarray()\n",
    "    weights_desc_args = np.flip(weights.argsort())\n",
    "    words_desc = np.take_along_axis(vocab, weights_desc_args, axis=1)\n",
    "    weights_desc = np.take_along_axis(weights, weights_desc_args, axis=1)\n",
    "    \n",
    "    print(words_desc[:, :n_best])\n",
    "    print(weights_desc[:, :n_best])\n",
    "    \n",
    "def get_weights(vectorizer, query, doc, n_best=10):\n",
    "    if type(doc) == str:\n",
    "        doc = [doc]\n",
    "        \n",
    "    tokenizer = vectorizer.build_tokenizer()\n",
    "    tokens = tokenizer(query)\n",
    "    print(tokens)\n",
    "    vocab = np.array(vectorizer.get_feature_names(), ndmin=2)\n",
    "    indices = []\n",
    "    for tok in tokens:\n",
    "        indices.append(np.argwhere(vocab == tok)[0, 1])\n",
    "\n",
    "    indices = np.array(indices)\n",
    "    weights = vectorizer.transform(doc).toarray().flatten()\n",
    "    print(indices)\n",
    "    weights_desc = np.take_along_axis(weights, indices, axis=0)\n",
    "    print(weights_desc[:n_best])\n",
    "    \n"
   ]
  },
  {
   "cell_type": "code",
   "execution_count": 7,
   "metadata": {},
   "outputs": [
    {
     "name": "stdout",
     "output_type": "stream",
     "text": [
      "arn:aws:iam::092109498566:role/service-role/AmazonSageMaker-ExecutionRole-20210728T153017\n",
      "us-west-2\n",
      "<botocore.client.SageMaker object at 0x7f17559ebc90>\n"
     ]
    }
   ],
   "source": [
    "role = sagemaker.get_execution_role()\n",
    "print(role)\n",
    "region = boto3.Session().region_name\n",
    "smclient = boto3.Session().client('sagemaker')\n",
    "print(region)\n",
    "print(smclient)"
   ]
  },
  {
   "cell_type": "code",
   "execution_count": 63,
   "metadata": {},
   "outputs": [
    {
     "name": "stderr",
     "output_type": "stream",
     "text": [
      "Downloading parquets |################################| 18/18\n",
      "\n"
     ]
    },
    {
     "name": "stdout",
     "output_type": "stream",
     "text": [
      "Took 1.9556849002838135 seconds\n"
     ]
    }
   ],
   "source": [
    "# Download and compile parquets\n",
    "iden = boto3.client('sts').get_caller_identity()\n",
    "# print(iden)\n",
    "df = get_data('training_data.csv', force_redownload=True)"
   ]
  },
  {
   "cell_type": "code",
   "execution_count": 75,
   "metadata": {},
   "outputs": [
    {
     "name": "stdout",
     "output_type": "stream",
     "text": [
      "Training model...\n"
     ]
    },
    {
     "name": "stderr",
     "output_type": "stream",
     "text": [
      "/opt/conda/lib/python3.7/site-packages/sklearn/feature_extraction/text.py:391: UserWarning: Your stop_words may be inconsistent with your preprocessing. Tokenizing the stop words generated tokens ['make'] not in stop_words.\n",
      "  'stop_words.' % sorted(inconsistent))\n"
     ]
    },
    {
     "name": "stdout",
     "output_type": "stream",
     "text": [
      "Took 76.53842520713806 seconds\n"
     ]
    }
   ],
   "source": [
    "# Train model\n",
    "corpus = df[corpus_col]\n",
    "labels = df[label_col]\n",
    "\n",
    "pipe = get_fitted_model(corpus, labels, lemmatize='custom')"
   ]
  },
  {
   "cell_type": "code",
   "execution_count": 76,
   "metadata": {},
   "outputs": [
    {
     "name": "stdout",
     "output_type": "stream",
     "text": [
      "Number of vocab words: 23734\n",
      "Available repos: ['amplify-flutter', 'community', 'docs', 'amplify-ios', 'amplify-console', 'amplify-observer', 'amplify-cli', 'aws-appsync-realtime-client-ios', 'aws-sdk-ios', 'amplify-ci-support', 'amplify-codegen', 'amplify-js-samples', 'aws-amplify.github.io', 'aws-sdk-android', 'amplify-ui', 'amplify-js', 'amplify-android', 'amplify-adminui']\n",
      "Small words in vocab:\n",
      " ['ad', 'al', 'au', 'az', 'bk', 'ca', 'cc', 'cd', 'cf', 'ci', 'cm', 'cs', 'cu', 'cv', 'db', 'dm', 'dy', 'ec', 'ed', 'em', 'er', 'es', 'fo', 'gb', 'gc', 'gi', 'gm', 'hl', 'hr', 'hz', 'ic', 'id', 'io', 'ip', 'iv', 'ki', 'km', 'kv', 'l', 'lf', 'lm', 'mb', 'mi', 'os', 'pc', 'pe', 'po', 'pr', 'r', 's', 'sc', 'sd', 'si', 'sl', 'sm', 'sn', 'ss', 'ti', 'tl', 'tn', 'tt', 'vi', 'w', 'x', 'zu']\n"
     ]
    }
   ],
   "source": [
    "# Model stats\n",
    "vocab = pipe['tfidfvectorizer'].get_feature_names()\n",
    "print('Number of vocab words:', len(vocab))\n",
    "repo_list = list(set(df['repo']))\n",
    "print('Available repos:', repo_list)\n",
    "small_words = [word for word in vocab if len(word) < 3]\n",
    "print('Small words in vocab:\\n', small_words)"
   ]
  },
  {
   "cell_type": "code",
   "execution_count": null,
   "metadata": {},
   "outputs": [],
   "source": [
    "with open('vocab.txt', 'w') as f:\n",
    "    f.write(str(vocab))"
   ]
  },
  {
   "cell_type": "code",
   "execution_count": null,
   "metadata": {},
   "outputs": [],
   "source": [
    "tokenizer = pipe[0].build_tokenizer()\n",
    "print(tokenizer.custom)\n",
    "token = tokenizer('walk walks talk talks talking talked')\n",
    "print(token)"
   ]
  },
  {
   "cell_type": "code",
   "execution_count": null,
   "metadata": {},
   "outputs": [],
   "source": [
    "js_issue = query_df(js_df, number=8108)[corpus_col].item()\n",
    "inspect_doc(pipe[0], js_issue)\n",
    "get_weights(pipe[0], 'workarounds issued cognito pool', js_issue)"
   ]
  },
  {
   "cell_type": "code",
   "execution_count": 123,
   "metadata": {},
   "outputs": [
    {
     "name": "stdout",
     "output_type": "stream",
     "text": [
      "2021-07-29 21:32:48 Starting - Starting the training job...\n",
      "2021-07-29 21:33:03 Starting - Launching requested ML instancesProfilerReport-1627594367: InProgress\n",
      "......\n",
      "2021-07-29 21:34:05 Starting - Preparing the instances for training.........\n",
      "2021-07-29 21:35:45 Downloading - Downloading input data...\n",
      "2021-07-29 21:36:06 Training - Training image download completed. Training in progress..\u001b[34m2021-07-29 21:36:10,019 sagemaker-containers INFO     Imported framework sagemaker_sklearn_container.training\u001b[0m\n",
      "\u001b[34m2021-07-29 21:36:10,021 sagemaker-training-toolkit INFO     No GPUs detected (normal if no gpus installed)\u001b[0m\n",
      "\u001b[34m2021-07-29 21:36:10,029 sagemaker_sklearn_container.training INFO     Invoking user training script.\u001b[0m\n",
      "\u001b[34m2021-07-29 21:36:11,934 sagemaker-training-toolkit INFO     Installing dependencies from requirements.txt:\u001b[0m\n",
      "\u001b[34m/miniconda3/bin/python -m pip install -r requirements.txt\u001b[0m\n",
      "\u001b[34mRequirement already satisfied: pip in /miniconda3/lib/python3.7/site-packages (from -r requirements.txt (line 1)) (21.0.1)\u001b[0m\n",
      "\u001b[34mCollecting progress\n",
      "  Downloading progress-1.6.tar.gz (7.8 kB)\u001b[0m\n",
      "\u001b[34mCollecting awswrangler\n",
      "  Downloading awswrangler-2.10.0-py3-none-any.whl (184 kB)\u001b[0m\n",
      "\u001b[34mRequirement already satisfied: boto3 in /miniconda3/lib/python3.7/site-packages (from -r requirements.txt (line 4)) (1.16.4)\u001b[0m\n",
      "\u001b[34mRequirement already satisfied: pandas in /miniconda3/lib/python3.7/site-packages (from -r requirements.txt (line 5)) (1.1.3)\u001b[0m\n",
      "\u001b[34mRequirement already satisfied: scikit-learn in /miniconda3/lib/python3.7/site-packages (from -r requirements.txt (line 6)) (0.23.2)\u001b[0m\n",
      "\u001b[34mCollecting markdown\n",
      "  Downloading Markdown-3.3.4-py3-none-any.whl (97 kB)\u001b[0m\n",
      "\u001b[34mCollecting bs4\n",
      "  Downloading bs4-0.0.1.tar.gz (1.1 kB)\u001b[0m\n",
      "\u001b[34mCollecting sagemaker\n",
      "  Downloading sagemaker-2.50.0.tar.gz (423 kB)\u001b[0m\n",
      "\u001b[34mRequirement already satisfied: joblib in /miniconda3/lib/python3.7/site-packages (from -r requirements.txt (line 10)) (1.0.1)\u001b[0m\n",
      "\u001b[34mCollecting nltk\n",
      "  Downloading nltk-3.6.2-py3-none-any.whl (1.5 MB)\u001b[0m\n",
      "\u001b[34mCollecting boto3\n",
      "  Downloading boto3-1.18.10-py3-none-any.whl (131 kB)\u001b[0m\n",
      "\u001b[34mRequirement already satisfied: numpy<2.1.0,>=1.18.0 in /miniconda3/lib/python3.7/site-packages (from awswrangler->-r requirements.txt (line 3)) (1.19.2)\u001b[0m\n",
      "\u001b[34mCollecting pg8000<1.21.0,>=1.16.0\n",
      "  Downloading pg8000-1.20.0-py3-none-any.whl (34 kB)\u001b[0m\n",
      "\u001b[34mCollecting pymysql<1.1.0,>=0.9.0\n",
      "  Downloading PyMySQL-1.0.2-py3-none-any.whl (43 kB)\u001b[0m\n",
      "\u001b[34mCollecting redshift-connector~=2.0.882\n",
      "  Downloading redshift_connector-2.0.883-py3-none-any.whl (93 kB)\u001b[0m\n",
      "\u001b[34mCollecting botocore<2.1.0,>=1.19.8\n",
      "  Downloading botocore-1.21.10-py3-none-any.whl (7.8 MB)\u001b[0m\n",
      "\u001b[34mCollecting openpyxl~=3.0.0\n",
      "  Downloading openpyxl-3.0.7-py2.py3-none-any.whl (243 kB)\u001b[0m\n",
      "\u001b[34mCollecting pyarrow<4.1.0,>=2.0.0\n",
      "  Downloading pyarrow-4.0.1-cp37-cp37m-manylinux2014_x86_64.whl (21.8 MB)\u001b[0m\n",
      "\u001b[34mCollecting s3transfer<0.6.0,>=0.5.0\n",
      "  Downloading s3transfer-0.5.0-py3-none-any.whl (79 kB)\u001b[0m\n",
      "\u001b[34mRequirement already satisfied: jmespath<1.0.0,>=0.7.1 in /miniconda3/lib/python3.7/site-packages (from boto3->-r requirements.txt (line 4)) (0.10.0)\u001b[0m\n",
      "\u001b[34mRequirement already satisfied: python-dateutil>=2.7.3 in /miniconda3/lib/python3.7/site-packages (from pandas->-r requirements.txt (line 5)) (2.8.1)\u001b[0m\n",
      "\u001b[34mRequirement already satisfied: pytz>=2017.2 in /miniconda3/lib/python3.7/site-packages (from pandas->-r requirements.txt (line 5)) (2021.1)\u001b[0m\n",
      "\u001b[34mRequirement already satisfied: urllib3<1.27,>=1.25.4 in /miniconda3/lib/python3.7/site-packages (from botocore<2.1.0,>=1.19.8->awswrangler->-r requirements.txt (line 3)) (1.25.11)\u001b[0m\n",
      "\u001b[34mCollecting et-xmlfile\n",
      "  Downloading et_xmlfile-1.1.0-py3-none-any.whl (4.7 kB)\u001b[0m\n",
      "\u001b[34mCollecting scramp>=1.4.0\n",
      "  Downloading scramp-1.4.0-py3-none-any.whl (8.4 kB)\u001b[0m\n",
      "\u001b[34mRequirement already satisfied: six>=1.5 in /miniconda3/lib/python3.7/site-packages (from python-dateutil>=2.7.3->pandas->-r requirements.txt (line 5)) (1.15.0)\u001b[0m\n",
      "\u001b[34mCollecting lxml>=4.6.2\n",
      "  Downloading lxml-4.6.3-cp37-cp37m-manylinux2014_x86_64.whl (6.3 MB)\u001b[0m\n",
      "\u001b[34mRequirement already satisfied: requests<2.25.2,>=2.23.0 in /miniconda3/lib/python3.7/site-packages (from redshift-connector~=2.0.882->awswrangler->-r requirements.txt (line 3)) (2.25.1)\u001b[0m\n",
      "\u001b[34mCollecting beautifulsoup4<5.0.0,>=4.7.0\n",
      "  Downloading beautifulsoup4-4.9.3-py3-none-any.whl (115 kB)\u001b[0m\n",
      "\u001b[34mCollecting soupsieve>1.2\n",
      "  Downloading soupsieve-2.2.1-py3-none-any.whl (33 kB)\u001b[0m\n",
      "\u001b[34mRequirement already satisfied: certifi>=2017.4.17 in /miniconda3/lib/python3.7/site-packages (from requests<2.25.2,>=2.23.0->redshift-connector~=2.0.882->awswrangler->-r requirements.txt (line 3)) (2020.12.5)\u001b[0m\n",
      "\u001b[34mRequirement already satisfied: idna<3,>=2.5 in /miniconda3/lib/python3.7/site-packages (from requests<2.25.2,>=2.23.0->redshift-connector~=2.0.882->awswrangler->-r requirements.txt (line 3)) (2.10)\u001b[0m\n",
      "\u001b[34mRequirement already satisfied: chardet<5,>=3.0.2 in /miniconda3/lib/python3.7/site-packages (from requests<2.25.2,>=2.23.0->redshift-connector~=2.0.882->awswrangler->-r requirements.txt (line 3)) (4.0.0)\u001b[0m\n",
      "\u001b[34mCollecting asn1crypto==1.4.0\n",
      "  Downloading asn1crypto-1.4.0-py2.py3-none-any.whl (104 kB)\u001b[0m\n",
      "\u001b[34mCollecting importlib-metadata\n",
      "  Downloading importlib_metadata-4.6.1-py3-none-any.whl (17 kB)\u001b[0m\n",
      "\u001b[34mRequirement already satisfied: tqdm in /miniconda3/lib/python3.7/site-packages (from nltk->-r requirements.txt (line 11)) (4.59.0)\u001b[0m\n",
      "\u001b[34mRequirement already satisfied: click in /miniconda3/lib/python3.7/site-packages (from nltk->-r requirements.txt (line 11)) (7.1.2)\u001b[0m\n",
      "\u001b[34mCollecting regex\n",
      "  Downloading regex-2021.7.6-cp37-cp37m-manylinux2014_x86_64.whl (721 kB)\u001b[0m\n",
      "\u001b[34mCollecting attrs\n",
      "  Downloading attrs-21.2.0-py2.py3-none-any.whl (53 kB)\u001b[0m\n",
      "\u001b[34mCollecting google-pasta\n",
      "  Downloading google_pasta-0.2.0-py3-none-any.whl (57 kB)\u001b[0m\n",
      "\u001b[34mRequirement already satisfied: protobuf>=3.1 in /miniconda3/lib/python3.7/site-packages (from sagemaker->-r requirements.txt (line 9)) (3.15.6)\u001b[0m\n",
      "\u001b[34mCollecting protobuf3-to-dict>=0.1.5\u001b[0m\n",
      "\u001b[34m  Downloading protobuf3-to-dict-0.1.5.tar.gz (3.5 kB)\u001b[0m\n",
      "\u001b[34mCollecting smdebug_rulesconfig==1.0.1\n",
      "  Downloading smdebug_rulesconfig-1.0.1-py2.py3-none-any.whl (20 kB)\u001b[0m\n",
      "\u001b[34mCollecting packaging>=20.0\n",
      "  Downloading packaging-21.0-py3-none-any.whl (40 kB)\u001b[0m\n",
      "\u001b[34mCollecting pathos\n",
      "  Downloading pathos-0.2.8-py2.py3-none-any.whl (81 kB)\u001b[0m\n",
      "\u001b[34mCollecting typing-extensions>=3.6.4\n",
      "  Downloading typing_extensions-3.10.0.0-py3-none-any.whl (26 kB)\u001b[0m\n",
      "\u001b[34mCollecting zipp>=0.5\n",
      "  Downloading zipp-3.5.0-py3-none-any.whl (5.7 kB)\u001b[0m\n",
      "\u001b[34mCollecting pyparsing>=2.0.2\n",
      "  Downloading pyparsing-2.4.7-py2.py3-none-any.whl (67 kB)\u001b[0m\n",
      "\u001b[34mRequirement already satisfied: scipy>=0.19.1 in /miniconda3/lib/python3.7/site-packages (from scikit-learn->-r requirements.txt (line 6)) (1.5.3)\u001b[0m\n",
      "\u001b[34mRequirement already satisfied: threadpoolctl>=2.0.0 in /miniconda3/lib/python3.7/site-packages (from scikit-learn->-r requirements.txt (line 6)) (2.1.0)\u001b[0m\n",
      "\u001b[34mCollecting dill>=0.3.4\n",
      "  Downloading dill-0.3.4-py2.py3-none-any.whl (86 kB)\u001b[0m\n",
      "\u001b[34mCollecting ppft>=1.6.6.4\n",
      "  Downloading ppft-1.6.6.4-py3-none-any.whl (65 kB)\u001b[0m\n",
      "\u001b[34mCollecting pox>=0.3.0\n",
      "  Downloading pox-0.3.0-py2.py3-none-any.whl (30 kB)\u001b[0m\n",
      "\u001b[34mCollecting multiprocess>=0.70.12\n",
      "  Downloading multiprocess-0.70.12.2-py37-none-any.whl (112 kB)\u001b[0m\n",
      "\u001b[34mBuilding wheels for collected packages: bs4, progress, sagemaker, protobuf3-to-dict\n",
      "  Building wheel for bs4 (setup.py): started\n",
      "  Building wheel for bs4 (setup.py): finished with status 'done'\n",
      "  Created wheel for bs4: filename=bs4-0.0.1-py3-none-any.whl size=1273 sha256=f782de132747d93b7842c64b54ad73826b040e7f919a599626ec9311f0a6804d\n",
      "  Stored in directory: /root/.cache/pip/wheels/0a/9e/ba/20e5bbc1afef3a491f0b3bb74d508f99403aabe76eda2167ca\n",
      "  Building wheel for progress (setup.py): started\n",
      "  Building wheel for progress (setup.py): finished with status 'done'\n",
      "  Created wheel for progress: filename=progress-1.6-py3-none-any.whl size=9614 sha256=18f1f6961d370c540e0dad0329c84adc8e1663251340270c4fbccc7db254bfa7\n",
      "  Stored in directory: /root/.cache/pip/wheels/8e/d7/61/498d8e27dc11e9805b01eb3539e2ee344436fc226daeb5fe87\n",
      "  Building wheel for sagemaker (setup.py): started\u001b[0m\n",
      "\u001b[34m  Building wheel for sagemaker (setup.py): finished with status 'done'\n",
      "  Created wheel for sagemaker: filename=sagemaker-2.50.0-py2.py3-none-any.whl size=594424 sha256=2b98e98e839fc3ef1211c3fa435c74b01d9156ede67db04f88d5ede8d74c8f2f\n",
      "  Stored in directory: /root/.cache/pip/wheels/1d/52/89/ef23101a7e4cffd95e26bb680a154e66660f57475bed6f9936\n",
      "  Building wheel for protobuf3-to-dict (setup.py): started\n",
      "  Building wheel for protobuf3-to-dict (setup.py): finished with status 'done'\n",
      "  Created wheel for protobuf3-to-dict: filename=protobuf3_to_dict-0.1.5-py3-none-any.whl size=4030 sha256=3e26173d94acfe6ea759df8c8e14e79009d27fe669d8d2acb602867ef4af1213\n",
      "  Stored in directory: /root/.cache/pip/wheels/ce/a0/8b/995ce2fbaf0e9fe7eb91da84e99e84d1b35cfaa555f2b8f1c7\u001b[0m\n",
      "\u001b[34mSuccessfully built bs4 progress sagemaker protobuf3-to-dict\u001b[0m\n",
      "\u001b[34mInstalling collected packages: botocore, soupsieve, s3transfer, dill, asn1crypto, zipp, typing-extensions, scramp, pyparsing, ppft, pox, multiprocess, lxml, et-xmlfile, boto3, beautifulsoup4, smdebug-rulesconfig, regex, redshift-connector, pymysql, pyarrow, protobuf3-to-dict, pg8000, pathos, packaging, openpyxl, importlib-metadata, google-pasta, attrs, sagemaker, progress, nltk, markdown, bs4, awswrangler\n",
      "  Attempting uninstall: botocore\n",
      "    Found existing installation: botocore 1.19.4\n",
      "    Uninstalling botocore-1.19.4:\n",
      "      Successfully uninstalled botocore-1.19.4\u001b[0m\n",
      "\u001b[34m  Attempting uninstall: s3transfer\n",
      "    Found existing installation: s3transfer 0.3.6\n",
      "    Uninstalling s3transfer-0.3.6:\n",
      "      Successfully uninstalled s3transfer-0.3.6\n",
      "  Attempting uninstall: boto3\n",
      "    Found existing installation: boto3 1.16.4\n",
      "    Uninstalling boto3-1.16.4:\n",
      "      Successfully uninstalled boto3-1.16.4\u001b[0m\n",
      "\u001b[34m  Attempting uninstall: pyarrow\n",
      "    Found existing installation: pyarrow 0.16.0\n",
      "    Uninstalling pyarrow-0.16.0:\n",
      "      Successfully uninstalled pyarrow-0.16.0\u001b[0m\n",
      "\u001b[34mERROR: pip's dependency resolver does not currently take into account all the packages that are installed. This behaviour is the source of the following dependency conflicts.\u001b[0m\n",
      "\u001b[34msagemaker-sklearn-container 2.0 requires boto3==1.16.4, but you have boto3 1.18.10 which is incompatible.\u001b[0m\n",
      "\u001b[34msagemaker-sklearn-container 2.0 requires botocore==1.19.4, but you have botocore 1.21.10 which is incompatible.\u001b[0m\n",
      "\u001b[34mSuccessfully installed asn1crypto-1.4.0 attrs-21.2.0 awswrangler-2.10.0 beautifulsoup4-4.9.3 boto3-1.18.10 botocore-1.21.10 bs4-0.0.1 dill-0.3.4 et-xmlfile-1.1.0 google-pasta-0.2.0 importlib-metadata-4.6.1 lxml-4.6.3 markdown-3.3.4 multiprocess-0.70.12.2 nltk-3.6.2 openpyxl-3.0.7 packaging-21.0 pathos-0.2.8 pg8000-1.20.0 pox-0.3.0 ppft-1.6.6.4 progress-1.6 protobuf3-to-dict-0.1.5 pyarrow-4.0.1 pymysql-1.0.2 pyparsing-2.4.7 redshift-connector-2.0.883 regex-2021.7.6 s3transfer-0.5.0 sagemaker-2.50.0 scramp-1.4.0 smdebug-rulesconfig-1.0.1 soupsieve-2.2.1 typing-extensions-3.10.0.0 zipp-3.5.0\u001b[0m\n",
      "\u001b[34m2021-07-29 21:36:29,027 sagemaker-training-toolkit INFO     No GPUs detected (normal if no gpus installed)\u001b[0m\n",
      "\u001b[34m2021-07-29 21:36:29,039 sagemaker-training-toolkit INFO     No GPUs detected (normal if no gpus installed)\u001b[0m\n",
      "\u001b[34m2021-07-29 21:36:29,050 sagemaker-training-toolkit INFO     No GPUs detected (normal if no gpus installed)\u001b[0m\n",
      "\u001b[34m2021-07-29 21:36:29,059 sagemaker-training-toolkit INFO     Invoking user script\n",
      "\u001b[0m\n",
      "\u001b[34mTraining Env:\n",
      "\u001b[0m\n",
      "\u001b[34m{\n",
      "    \"additional_framework_parameters\": {},\n",
      "    \"channel_input_dirs\": {\n",
      "        \"train\": \"/opt/ml/input/data/train\"\n",
      "    },\n",
      "    \"current_host\": \"algo-1\",\n",
      "    \"framework_module\": \"sagemaker_sklearn_container.training:main\",\n",
      "    \"hosts\": [\n",
      "        \"algo-1\"\n",
      "    ],\n",
      "    \"hyperparameters\": {\n",
      "        \"n-best\": 10\n",
      "    },\n",
      "    \"input_config_dir\": \"/opt/ml/input/config\",\n",
      "    \"input_data_config\": {\n",
      "        \"train\": {\n",
      "            \"TrainingInputMode\": \"File\",\n",
      "            \"S3DistributionType\": \"FullyReplicated\",\n",
      "            \"RecordWrapperType\": \"None\"\n",
      "        }\n",
      "    },\n",
      "    \"input_dir\": \"/opt/ml/input\",\n",
      "    \"is_master\": true,\n",
      "    \"job_name\": \"sagemaker-scikit-learn-2021-07-29-21-32-46-786\",\n",
      "    \"log_level\": 20,\n",
      "    \"master_hostname\": \"algo-1\",\n",
      "    \"model_dir\": \"/opt/ml/model\",\n",
      "    \"module_dir\": \"s3://sagemaker-us-west-2-092109498566/sagemaker-scikit-learn-2021-07-29-21-32-46-786/source/sourcedir.tar.gz\",\n",
      "    \"module_name\": \"train\",\n",
      "    \"network_interface_name\": \"eth0\",\n",
      "    \"num_cpus\": 16,\n",
      "    \"num_gpus\": 0,\n",
      "    \"output_data_dir\": \"/opt/ml/output/data\",\n",
      "    \"output_dir\": \"/opt/ml/output\",\n",
      "    \"output_intermediate_dir\": \"/opt/ml/output/intermediate\",\n",
      "    \"resource_config\": {\n",
      "        \"current_host\": \"algo-1\",\n",
      "        \"hosts\": [\n",
      "            \"algo-1\"\n",
      "        ],\n",
      "        \"network_interface_name\": \"eth0\"\n",
      "    },\n",
      "    \"user_entry_point\": \"train.py\"\u001b[0m\n",
      "\u001b[34m}\n",
      "\u001b[0m\n",
      "\u001b[34mEnvironment variables:\n",
      "\u001b[0m\n",
      "\u001b[34mSM_HOSTS=[\"algo-1\"]\u001b[0m\n",
      "\u001b[34mSM_NETWORK_INTERFACE_NAME=eth0\u001b[0m\n",
      "\u001b[34mSM_HPS={\"n-best\":10}\u001b[0m\n",
      "\u001b[34mSM_USER_ENTRY_POINT=train.py\u001b[0m\n",
      "\u001b[34mSM_FRAMEWORK_PARAMS={}\u001b[0m\n",
      "\u001b[34mSM_RESOURCE_CONFIG={\"current_host\":\"algo-1\",\"hosts\":[\"algo-1\"],\"network_interface_name\":\"eth0\"}\u001b[0m\n",
      "\u001b[34mSM_INPUT_DATA_CONFIG={\"train\":{\"RecordWrapperType\":\"None\",\"S3DistributionType\":\"FullyReplicated\",\"TrainingInputMode\":\"File\"}}\u001b[0m\n",
      "\u001b[34mSM_OUTPUT_DATA_DIR=/opt/ml/output/data\u001b[0m\n",
      "\u001b[34mSM_CHANNELS=[\"train\"]\u001b[0m\n",
      "\u001b[34mSM_CURRENT_HOST=algo-1\u001b[0m\n",
      "\u001b[34mSM_MODULE_NAME=train\u001b[0m\n",
      "\u001b[34mSM_LOG_LEVEL=20\u001b[0m\n",
      "\u001b[34mSM_FRAMEWORK_MODULE=sagemaker_sklearn_container.training:main\u001b[0m\n",
      "\u001b[34mSM_INPUT_DIR=/opt/ml/input\u001b[0m\n",
      "\u001b[34mSM_INPUT_CONFIG_DIR=/opt/ml/input/config\u001b[0m\n",
      "\u001b[34mSM_OUTPUT_DIR=/opt/ml/output\u001b[0m\n",
      "\u001b[34mSM_NUM_CPUS=16\u001b[0m\n",
      "\u001b[34mSM_NUM_GPUS=0\u001b[0m\n",
      "\u001b[34mSM_MODEL_DIR=/opt/ml/model\u001b[0m\n",
      "\u001b[34mSM_MODULE_DIR=s3://sagemaker-us-west-2-092109498566/sagemaker-scikit-learn-2021-07-29-21-32-46-786/source/sourcedir.tar.gz\u001b[0m\n",
      "\u001b[34mSM_TRAINING_ENV={\"additional_framework_parameters\":{},\"channel_input_dirs\":{\"train\":\"/opt/ml/input/data/train\"},\"current_host\":\"algo-1\",\"framework_module\":\"sagemaker_sklearn_container.training:main\",\"hosts\":[\"algo-1\"],\"hyperparameters\":{\"n-best\":10},\"input_config_dir\":\"/opt/ml/input/config\",\"input_data_config\":{\"train\":{\"RecordWrapperType\":\"None\",\"S3DistributionType\":\"FullyReplicated\",\"TrainingInputMode\":\"File\"}},\"input_dir\":\"/opt/ml/input\",\"is_master\":true,\"job_name\":\"sagemaker-scikit-learn-2021-07-29-21-32-46-786\",\"log_level\":20,\"master_hostname\":\"algo-1\",\"model_dir\":\"/opt/ml/model\",\"module_dir\":\"s3://sagemaker-us-west-2-092109498566/sagemaker-scikit-learn-2021-07-29-21-32-46-786/source/sourcedir.tar.gz\",\"module_name\":\"train\",\"network_interface_name\":\"eth0\",\"num_cpus\":16,\"num_gpus\":0,\"output_data_dir\":\"/opt/ml/output/data\",\"output_dir\":\"/opt/ml/output\",\"output_intermediate_dir\":\"/opt/ml/output/intermediate\",\"resource_config\":{\"current_host\":\"algo-1\",\"hosts\":[\"algo-1\"],\"network_interface_name\":\"eth0\"},\"user_entry_point\":\"train.py\"}\u001b[0m\n",
      "\u001b[34mSM_USER_ARGS=[\"--n-best\",\"10\"]\u001b[0m\n",
      "\u001b[34mSM_OUTPUT_INTERMEDIATE_DIR=/opt/ml/output/intermediate\u001b[0m\n",
      "\u001b[34mSM_CHANNEL_TRAIN=/opt/ml/input/data/train\u001b[0m\n",
      "\u001b[34mSM_HP_N-BEST=10\u001b[0m\n",
      "\u001b[34mPYTHONPATH=/opt/ml/code:/miniconda3/bin:/miniconda3/lib/python37.zip:/miniconda3/lib/python3.7:/miniconda3/lib/python3.7/lib-dynload:/miniconda3/lib/python3.7/site-packages\n",
      "\u001b[0m\n",
      "\u001b[34mInvoking script with the following command:\n",
      "\u001b[0m\n",
      "\u001b[34m/miniconda3/bin/python train.py --n-best 10\n",
      "\n",
      "\u001b[0m\n",
      "\u001b[34mTraining model...\u001b[0m\n",
      "\u001b[34m/miniconda3/lib/python3.7/site-packages/sklearn/feature_extraction/text.py:386: UserWarning: Your stop_words may be inconsistent with your preprocessing. Tokenizing the stop words generated tokens ['ha', 'le', 'u', 'wa'] not in stop_words.\n",
      "  'stop_words.' % sorted(inconsistent))\u001b[0m\n",
      "\u001b[34mTook 35.06283664703369 seconds\u001b[0m\n",
      "\u001b[34m2021-07-29 21:37:28,011 sagemaker-containers INFO     Reporting training SUCCESS\u001b[0m\n",
      "\n",
      "2021-07-29 21:37:45 Uploading - Uploading generated training model\n",
      "2021-07-29 21:40:46 Completed - Training job completed\n",
      "ProfilerReport-1627594367: NoIssuesFound\n",
      "Training seconds: 297\n",
      "Billable seconds: 297\n"
     ]
    }
   ],
   "source": [
    "# Train SM estimator\n",
    "train_data = 's3://amplifyobserverinsights-aoinsightslandingbucket29-5vcr471d4nm5/data/issues/'\n",
    "sklearn_estimator = SKLearn(\n",
    "    'train.py',\n",
    "    role=sagemaker.get_execution_role(),\n",
    "    instance_type='ml.m5.4xlarge',\n",
    "    framework_version='0.23-1',\n",
    "    hyperparameters = {'n-best': 10},\n",
    "    dependencies=['.']\n",
    ")\n",
    "sklearn_estimator.fit({'train': train_data})"
   ]
  },
  {
   "cell_type": "code",
   "execution_count": 124,
   "metadata": {},
   "outputs": [
    {
     "data": {
      "text/plain": [
       "{'EndpointArn': 'arn:aws:sagemaker:us-west-2:092109498566:endpoint/issue-similarity-endpoint',\n",
       " 'ResponseMetadata': {'RequestId': '09396730-3c81-4974-8f65-2722bff6c4b5',\n",
       "  'HTTPStatusCode': 200,\n",
       "  'HTTPHeaders': {'x-amzn-requestid': '09396730-3c81-4974-8f65-2722bff6c4b5',\n",
       "   'content-type': 'application/x-amz-json-1.1',\n",
       "   'content-length': '93',\n",
       "   'date': 'Thu, 29 Jul 2021 21:41:22 GMT'},\n",
       "  'RetryAttempts': 0}}"
      ]
     },
     "execution_count": 124,
     "metadata": {},
     "output_type": "execute_result"
    }
   ],
   "source": [
    "# Deploy SM predictor\n",
    "# predictor = sklearn_estimator.deploy(instance_type='ml.m5.4xlarge',\n",
    "#                                      initial_instance_count=1,\n",
    "# #                                      update_endpoint=True,\n",
    "#                                     endpoint_name='issue-similarity-endpoint')\n",
    "predictor = Predictor('issue-similarity-endpoint')\n",
    "model = sklearn_estimator.create_model()\n",
    "session = model.sagemaker_session\n",
    "role = sagemaker.get_execution_role()\n",
    "model_name = model.name\n",
    "container_def = model.prepare_container_def(instance_type='ml.m5.4xlarge')\n",
    "session.create_model(model_name, role, container_def)\n",
    "\n",
    "\n",
    "endpoint_config_name = session.create_endpoint_config(name=model_name,\n",
    "                                                      model_name=model_name,\n",
    "                                                      initial_instance_count=1,\n",
    "                                                      instance_type='ml.m5.4xlarge')\n",
    "\n",
    "# Update desired endpoint with new Endpoint Config\n",
    "client = boto3.client('sagemaker')\n",
    "client.update_endpoint(EndpointName='issue-similarity-endpoint',\n",
    "                       EndpointConfigName=endpoint_config_name)\n",
    "\n",
    "# predictor.update_endpoint(\n",
    "#     instance_type='ml.m5.4xlarge',\n",
    "#     model_name = sklearn_estimator.create_model().name,\n",
    "#     initial_instance_count=1\n",
    "# )"
   ]
  },
  {
   "cell_type": "code",
   "execution_count": 122,
   "metadata": {},
   "outputs": [
    {
     "name": "stdout",
     "output_type": "stream",
     "text": [
      "[[['https://github.com/aws-amplify/amplify-js/issues/8472'\n",
      "   'https://github.com/aws-amplify/amplify-adminui/issues/233'\n",
      "   'https://github.com/aws-amplify/amplify-js/issues/4180'\n",
      "   'https://github.com/aws-amplify/amplify-js/issues/5254'\n",
      "   'https://github.com/aws-amplify/aws-sdk-ios/issues/3076'\n",
      "   'https://github.com/aws-amplify/amplify-js/issues/7919'\n",
      "   'https://github.com/aws-amplify/amplify-js/issues/3799'\n",
      "   'https://github.com/aws-amplify/aws-sdk-android/issues/1040'\n",
      "   'https://github.com/aws-amplify/amplify-ios/issues/90'\n",
      "   'https://github.com/aws-amplify/amplify-ios/issues/373']]\n",
      "\n",
      " [[0.5997545956926212 0.36213294910206784 0.34880661084949227\n",
      "   0.3262144123647185 0.3211355352512778 0.2898935616415725\n",
      "   0.2888978803166796 0.27088072301221555 0.27011981892700004\n",
      "   0.2699086298024099]]]\n"
     ]
    }
   ],
   "source": [
    "data = ['password managers autofill']\n",
    "response = predictor.predict(data)\n",
    "print(response)"
   ]
  },
  {
   "cell_type": "code",
   "execution_count": null,
   "metadata": {},
   "outputs": [],
   "source": [
    "# with open('extra_tokens.txt', 'w') as f:\n",
    "#     f.write(str(set(vocab2) - set(vocab)))"
   ]
  },
  {
   "cell_type": "code",
   "execution_count": null,
   "metadata": {},
   "outputs": [],
   "source": [
    "pw_mgr = query_df(js_df, number=5782)['bodyCleaned']\n",
    "inspect_doc(pipe[0], pw_mgr)"
   ]
  },
  {
   "cell_type": "code",
   "execution_count": 79,
   "metadata": {},
   "outputs": [
    {
     "name": "stdout",
     "output_type": "stream",
     "text": [
      "[['https://github.com/aws-amplify/amplify-js/issues/8472'\n",
      "  'https://github.com/aws-amplify/amplify-adminui/issues/233'\n",
      "  'https://github.com/aws-amplify/amplify-js/issues/5782'\n",
      "  'https://github.com/aws-amplify/amplify-js/issues/8289'\n",
      "  'https://github.com/aws-amplify/amplify-js/issues/4748'\n",
      "  'https://github.com/aws-amplify/amplify-js/issues/3799'\n",
      "  'https://github.com/aws-amplify/amplify-js/issues/14'\n",
      "  'https://github.com/aws-amplify/aws-sdk-ios/issues/3076'\n",
      "  'https://github.com/aws-amplify/aws-sdk-ios/issues/313'\n",
      "  'https://github.com/aws-amplify/amplify-js/issues/6111']]\n",
      "[[0.7425792  0.33807384 0.31580219 0.29732867 0.29658787 0.29270244\n",
      "  0.28858939 0.2834566  0.26672109 0.26536774]]\n",
      "Prediction took 2.312330722808838 seconds\n"
     ]
    }
   ],
   "source": [
    "pw_mgr_query = ['AmplifySignIn component does not work with password managers or native browser autofill']\n",
    "pred, score = pipe.predict(pw_mgr_query)"
   ]
  },
  {
   "cell_type": "code",
   "execution_count": 125,
   "metadata": {},
   "outputs": [
    {
     "name": "stdout",
     "output_type": "stream",
     "text": [
      "[['https://github.com/aws-amplify/amplify-cli/issues/7434'\n",
      "  'https://github.com/aws-amplify/amplify-js/issues/7574'\n",
      "  'https://github.com/aws-amplify/aws-sdk-ios/issues/963'\n",
      "  'https://github.com/aws-amplify/amplify-js/issues/3016'\n",
      "  'https://github.com/aws-amplify/amplify-console/issues/604'\n",
      "  'https://github.com/aws-amplify/aws-sdk-ios/issues/2214'\n",
      "  'https://github.com/aws-amplify/amplify-cli/issues/1525'\n",
      "  'https://github.com/aws-amplify/amplify-cli/issues/3621'\n",
      "  'https://github.com/aws-amplify/amplify-cli/issues/6008'\n",
      "  'https://github.com/aws-amplify/amplify-js/issues/5385']]\n",
      "[[0.55712908 0.53323662 0.52674688 0.47105745 0.45292852 0.45261622\n",
      "  0.44701542 0.4423523  0.43639532 0.43491068]]\n",
      "Prediction took 2.4285876750946045 seconds\n"
     ]
    },
    {
     "data": {
      "text/plain": [
       "(array([['https://github.com/aws-amplify/amplify-cli/issues/7434',\n",
       "         'https://github.com/aws-amplify/amplify-js/issues/7574',\n",
       "         'https://github.com/aws-amplify/aws-sdk-ios/issues/963',\n",
       "         'https://github.com/aws-amplify/amplify-js/issues/3016',\n",
       "         'https://github.com/aws-amplify/amplify-console/issues/604',\n",
       "         'https://github.com/aws-amplify/aws-sdk-ios/issues/2214',\n",
       "         'https://github.com/aws-amplify/amplify-cli/issues/1525',\n",
       "         'https://github.com/aws-amplify/amplify-cli/issues/3621',\n",
       "         'https://github.com/aws-amplify/amplify-cli/issues/6008',\n",
       "         'https://github.com/aws-amplify/amplify-js/issues/5385']],\n",
       "       dtype=object),\n",
       " array([[0.55712908, 0.53323662, 0.52674688, 0.47105745, 0.45292852,\n",
       "         0.45261622, 0.44701542, 0.4423523 , 0.43639532, 0.43491068]]))"
      ]
     },
     "execution_count": 125,
     "metadata": {},
     "output_type": "execute_result"
    }
   ],
   "source": [
    "js_issue = ['image file upload fail file size 5 mb']\n",
    "pipe.predict(js_issue)"
   ]
  },
  {
   "cell_type": "code",
   "execution_count": 82,
   "metadata": {},
   "outputs": [
    {
     "name": "stdout",
     "output_type": "stream",
     "text": [
      "[['https://github.com/aws-amplify/amplify-js/issues/4981'\n",
      "  'https://github.com/aws-amplify/amplify-js/issues/5576'\n",
      "  'https://github.com/aws-amplify/amplify-console/issues/1519'\n",
      "  'https://github.com/aws-amplify/amplify-cli/issues/1770'\n",
      "  'https://github.com/aws-amplify/amplify-js/issues/3706'\n",
      "  'https://github.com/aws-amplify/amplify-js/issues/1646'\n",
      "  'https://github.com/aws-amplify/amplify-cli/issues/5260'\n",
      "  'https://github.com/aws-amplify/amplify-js/issues/515'\n",
      "  'https://github.com/aws-amplify/amplify-cli/issues/4822'\n",
      "  'https://github.com/aws-amplify/aws-sdk-android/issues/375']]\n",
      "[[0.72054029 0.41931634 0.33497204 0.33299807 0.31423847 0.28113276\n",
      "  0.27258603 0.26524243 0.26306481 0.26025255]]\n",
      "Prediction took 2.3095221519470215 seconds\n",
      "[['header' 'request' 'navegaor' 'server' 'end' 'proxy' 'standard' 'make'\n",
      "  'cors' 'saw']]\n",
      "[[0.61793193 0.41295811 0.21754669 0.20195419 0.18303126 0.14329843\n",
      "  0.13805923 0.13789834 0.1327474  0.12866307]]\n"
     ]
    }
   ],
   "source": [
    "js_issue = ['additionalHeaders param is never passed to underlying function -- How do I access the current request headers or set them per request']\n",
    "pred, score = pipe.predict(js_issue)\n",
    "inspect_doc(pipe[0], query_df(small_df, repo='amplify-console', number=1519)['title_body'])"
   ]
  }
 ],
 "metadata": {
  "instance_type": "ml.m5.4xlarge",
  "kernelspec": {
   "display_name": "Python 3 (Data Science)",
   "language": "python",
   "name": "python3__SAGEMAKER_INTERNAL__arn:aws:sagemaker:us-west-2:236514542706:image/datascience-1.0"
  },
  "language_info": {
   "codemirror_mode": {
    "name": "ipython",
    "version": 3
   },
   "file_extension": ".py",
   "mimetype": "text/x-python",
   "name": "python",
   "nbconvert_exporter": "python",
   "pygments_lexer": "ipython3",
   "version": "3.7.10"
  }
 },
 "nbformat": 4,
 "nbformat_minor": 4
}
