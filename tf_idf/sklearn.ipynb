{
 "cells": [
  {
   "cell_type": "code",
   "execution_count": 8,
   "metadata": {},
   "outputs": [],
   "source": [
    "import importlib\n",
    "\n",
    "import numpy as np\n",
    "from sklearn.feature_extraction.text import TfidfVectorizer\n",
    "from sklearn.metrics.pairwise import linear_kernel\n",
    "from sklearn.pipeline import make_pipeline\n",
    "from sklearn.utils.estimator_checks import check_estimator\n",
    "\n",
    "import vector_similarity\n",
    "\n",
    "importlib.reload(vector_similarity)\n",
    "from vector_similarity import VectorSimilarity"
   ]
  },
  {
   "cell_type": "code",
   "execution_count": 9,
   "metadata": {
    "collapsed": false,
    "jupyter": {
     "outputs_hidden": false
    },
    "pycharm": {
     "name": "#%%\n"
    }
   },
   "outputs": [
    {
     "data": {
      "text/plain": "array([['a', 'b', 'c']], dtype='<U1')"
     },
     "execution_count": 9,
     "metadata": {},
     "output_type": "execute_result"
    }
   ],
   "source": [
    "# Sanity checks on VectorSimilarity\n",
    "\n",
    "# VectorSimilarity will never pass check_estimator because predict()'s output is determined by the n_best attribute,\n",
    "# and not the prediction input.\n",
    "# check_estimator(VectorSimilarity())\n",
    "\n",
    "estimator = VectorSimilarity()\n",
    "X = np.array(\n",
    "    [[0, 1],\n",
    "     [1, 0],\n",
    "     [-1, 0]])\n",
    "\n",
    "y = np.array(['a', 'b', 'c'])\n",
    "\n",
    "estimator = estimator.fit(X, y)\n",
    "estimator.predict(np.array([1, 2]).reshape(1, -1))"
   ]
  },
  {
   "cell_type": "code",
   "execution_count": 10,
   "metadata": {},
   "outputs": [],
   "source": [
    "corpus = [\n",
    "    'Bees like to make honey',\n",
    "    'Bears like to eat honey',\n",
    "    'Bees don\\'t like bears',\n",
    "    'Humans are walking around the park'\n",
    "]"
   ]
  },
  {
   "cell_type": "code",
   "execution_count": 11,
   "metadata": {},
   "outputs": [
    {
     "name": "stdout",
     "output_type": "stream",
     "text": [
      "['are', 'around', 'bears', 'bees', 'don', 'eat', 'honey', 'humans', 'like', 'make', 'park', 'the', 'to', 'walking']\n",
      "[[0.         0.         0.         0.43584673 0.         0.\n",
      "  0.43584673 0.         0.35285549 0.55281632 0.         0.\n",
      "  0.43584673 0.        ]\n",
      " [0.         0.         0.43584673 0.         0.         0.55281632\n",
      "  0.43584673 0.         0.35285549 0.         0.         0.\n",
      "  0.43584673 0.        ]\n",
      " [0.         0.         0.4842629  0.4842629  0.61422608 0.\n",
      "  0.         0.         0.39205255 0.         0.         0.\n",
      "  0.         0.        ]\n",
      " [0.40824829 0.40824829 0.         0.         0.         0.\n",
      "  0.         0.40824829 0.         0.         0.40824829 0.40824829\n",
      "  0.         0.40824829]]\n",
      "[[1.         0.50443175 0.3494023  0.        ]\n",
      " [0.50443175 1.         0.3494023  0.        ]\n",
      " [0.3494023  0.3494023  1.         0.        ]\n",
      " [0.         0.         0.         1.        ]]\n",
      "[[0. 0. 0. 0. 0. 0. 0. 0. 0. 0. 0. 0. 0. 0.]]\n"
     ]
    }
   ],
   "source": [
    "vectorizer = TfidfVectorizer()\n",
    "X = vectorizer.fit_transform(corpus)\n",
    "print(vectorizer.get_feature_names())\n",
    "print(X.toarray())\n",
    "print(linear_kernel(X))\n",
    "print(vectorizer.transform(['This sentence has different words']).toarray())"
   ]
  },
  {
   "cell_type": "code",
   "execution_count": 12,
   "metadata": {},
   "outputs": [
    {
     "data": {
      "text/plain": "array([['a', 'b', 'c', 'd'],\n       ['b', 'a', 'c', 'd'],\n       ['c', 'b', 'a', 'd'],\n       ['d', 'c', 'b', 'a']], dtype='<U1')"
     },
     "execution_count": 12,
     "metadata": {},
     "output_type": "execute_result"
    }
   ],
   "source": [
    "pipe = make_pipeline(TfidfVectorizer(), VectorSimilarity())\n",
    "pipe.fit(corpus, ['a', 'b', 'c', 'd'])\n",
    "pipe.predict(corpus)"
   ]
  }
 ],
 "metadata": {
  "instance_type": "ml.t3.medium",
  "kernelspec": {
   "name": "python3",
   "language": "python",
   "display_name": "Python 3 (ipykernel)"
  },
  "language_info": {
   "codemirror_mode": {
    "name": "ipython",
    "version": 3
   },
   "file_extension": ".py",
   "mimetype": "text/x-python",
   "name": "python",
   "nbconvert_exporter": "python",
   "pygments_lexer": "ipython3",
   "version": "3.7.10"
  }
 },
 "nbformat": 4,
 "nbformat_minor": 4
}